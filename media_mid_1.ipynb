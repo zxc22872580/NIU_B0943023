{
  "nbformat": 4,
  "nbformat_minor": 0,
  "metadata": {
    "colab": {
      "provenance": [],
      "authorship_tag": "ABX9TyPwb39XSo5F8xmT7TWISeHv",
      "include_colab_link": true
    },
    "kernelspec": {
      "name": "python3",
      "display_name": "Python 3"
    },
    "language_info": {
      "name": "python"
    }
  },
  "cells": [
    {
      "cell_type": "markdown",
      "metadata": {
        "id": "view-in-github",
        "colab_type": "text"
      },
      "source": [
        "<a href=\"https://colab.research.google.com/github/zxc22872580/NIU_B0943023/blob/main/media_mid_1.ipynb\" target=\"_parent\"><img src=\"https://colab.research.google.com/assets/colab-badge.svg\" alt=\"Open In Colab\"/></a>"
      ]
    },
    {
      "cell_type": "code",
      "source": [
        "# !ls\n",
        "# !rm -rf swim_"
      ],
      "metadata": {
        "colab": {
          "base_uri": "https://localhost:8080/"
        },
        "id": "tKgkA-_l6fST",
        "outputId": "8b188b19-af89-4dc8-d022-62215a34ff2f"
      },
      "execution_count": 30,
      "outputs": [
        {
          "output_type": "stream",
          "name": "stdout",
          "text": [
            "sample_data  swim_  swimmimg\n"
          ]
        }
      ]
    },
    {
      "cell_type": "code",
      "source": [
        "import os\n",
        "import time\n",
        "import psutil\n",
        "import cv2\n",
        "import numpy as np\n",
        "from sklearn.neighbors import NearestNeighbors\n",
        "from PIL import Image\n",
        "\n",
        "# 設定圖片資料夾和處理後圖片存放資料夾\n",
        "img_folder_path = '/content/swimmimg'\n",
        "processed_img_folder_path = '/content/swimmimg_'\n",
        "\n",
        "# 資料前處裡\n",
        "def preprocess_images(img_folder_path, processed_img_folder_path):\n",
        "    start_time = time.time()\n",
        "\n",
        "    # 創建處理後圖片存放資料夾\n",
        "    if not os.path.exists(processed_img_folder_path):\n",
        "        os.makedirs(processed_img_folder_path)\n",
        "\n",
        "    # 讀取所有圖片，並將其調整為相同大小\n",
        "    for filename in os.listdir(img_folder_path):\n",
        "        img_path = os.path.join(img_folder_path, filename)\n",
        "\n",
        "        # 添加檢查，確保是圖片檔案再進行處理\n",
        "        if not os.path.isfile(img_path) or not any(img_path.lower().endswith(ext) for ext in ['.jpg', '.jpeg', '.png']):\n",
        "            print(f\"非圖片檔案: {img_path}\")\n",
        "            continue\n",
        "\n",
        "        # 繼續處理圖片\n",
        "        img = cv2.imread(img_path)\n",
        "        if img is None:\n",
        "            print(f\"無法讀取圖片: {img_path}\")\n",
        "            continue\n",
        "\n",
        "        resized_img = cv2.resize(img, (256, 256))  # 調整大小為256x256\n",
        "        processed_img_path = os.path.join(processed_img_folder_path, filename)\n",
        "        cv2.imwrite(processed_img_path, resized_img)\n",
        "\n",
        "    end_time = time.time()\n",
        "    elapsed_time = end_time - start_time\n",
        "    memory_usage = psutil.Process(os.getpid()).memory_info().rss / 1024**2  # 記憶體用量(MB)\n",
        "\n",
        "    print(f\"資料前處裡完成，執行時間：{elapsed_time:.2f}秒，記憶體用量：{memory_usage:.2f}MB\")\n",
        "\n",
        "\n",
        "\n",
        "preprocess_images(img_folder_path, processed_img_folder_path)"
      ],
      "metadata": {
        "colab": {
          "base_uri": "https://localhost:8080/"
        },
        "id": "QH-eBMB342tg",
        "outputId": "967b8d5d-1dbf-4ae3-f9ce-378f73a47e9e"
      },
      "execution_count": 31,
      "outputs": [
        {
          "output_type": "stream",
          "name": "stdout",
          "text": [
            "非圖片檔案: /content/swimmimg/.ipynb_checkpoints\n",
            "資料前處裡完成，執行時間：3.25秒，記憶體用量：192.55MB\n"
          ]
        }
      ]
    }
  ]
}